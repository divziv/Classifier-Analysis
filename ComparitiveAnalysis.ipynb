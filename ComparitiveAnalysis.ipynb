{
  "nbformat": 4,
  "nbformat_minor": 0,
  "metadata": {
    "colab": {
      "provenance": []
    },
    "kernelspec": {
      "name": "python3",
      "display_name": "Python 3"
    },
    "language_info": {
      "name": "python"
    }
  },
  "cells": [
    {
      "cell_type": "markdown",
      "source": [
        "Comparison-3 models\n",
        "\n",
        "\n",
        "1.   SVM\n",
        "2.   KNN- with and without brute force\n",
        "3.   NB\n",
        "\n",
        "wine and petal dataset\n",
        "Find accuracy, confusion matrix for each method\n",
        "total 8\n",
        "\n",
        "Dataset Name|Classifier|True Positive|True Negative|False Positive|False Negative|Sensitivity|FM Score| Accuracy|False Positive Rate\n",
        "Save it in an excel sheet\n",
        "\n",
        "Sort the above table using accuracy, fm score, fpr\n",
        "\n",
        "Find the top 3 models\n",
        "\n",
        "Do the regression analysis for all the 8- to find more bias and less variance"
      ],
      "metadata": {
        "id": "HbjxRPMQodXb"
      }
    },
    {
      "cell_type": "markdown",
      "source": [
        "CM Online\n",
        "[link text](https://confusionmatrixonline.com/)"
      ],
      "metadata": {
        "id": "rqPsr49J6Hwt"
      }
    },
    {
      "cell_type": "code",
      "execution_count": null,
      "metadata": {
        "id": "KXcczhNboaUI"
      },
      "outputs": [],
      "source": [
        "import pandas as pd\n",
        "import numpy as np\n",
        "import os\n",
        "import math\n",
        "import operator\n",
        "import seaborn as sns\n",
        "\n",
        "from sklearn import datasets\n",
        "\n",
        "from sklearn.model_selection import cross_val_score\n",
        "from sklearn.model_selection import train_test_split\n",
        "\n",
        "import sklearn.metrics\n",
        "from sklearn.metrics import accuracy_score\n",
        "from sklearn.metrics import classification_report\n",
        "from sklearn.metrics import confusion_matrix\n",
        "\n",
        "import matplotlib.pyplot as plt\n",
        "\n",
        "from sklearn.svm import SVC\n",
        "from sklearn.naive_bayes import GaussianNB\n",
        "from sklearn.neighbors import KNeighborsClassifier\n"
      ]
    },
    {
      "cell_type": "code",
      "source": [
        "from sklearn import datasets\n",
        "dir(datasets)"
      ],
      "metadata": {
        "colab": {
          "base_uri": "https://localhost:8080/"
        },
        "id": "9atfBceKuSZ1",
        "outputId": "ae1656ba-1992-4966-fb47-0486c16138ff"
      },
      "execution_count": null,
      "outputs": [
        {
          "output_type": "execute_result",
          "data": {
            "text/plain": [
              "['__all__',\n",
              " '__builtins__',\n",
              " '__cached__',\n",
              " '__doc__',\n",
              " '__file__',\n",
              " '__loader__',\n",
              " '__name__',\n",
              " '__package__',\n",
              " '__path__',\n",
              " '__spec__',\n",
              " '_base',\n",
              " '_california_housing',\n",
              " '_covtype',\n",
              " '_kddcup99',\n",
              " '_lfw',\n",
              " '_olivetti_faces',\n",
              " '_openml',\n",
              " '_rcv1',\n",
              " '_samples_generator',\n",
              " '_species_distributions',\n",
              " '_svmlight_format_fast',\n",
              " '_svmlight_format_io',\n",
              " '_twenty_newsgroups',\n",
              " 'clear_data_home',\n",
              " 'dump_svmlight_file',\n",
              " 'fetch_20newsgroups',\n",
              " 'fetch_20newsgroups_vectorized',\n",
              " 'fetch_california_housing',\n",
              " 'fetch_covtype',\n",
              " 'fetch_kddcup99',\n",
              " 'fetch_lfw_pairs',\n",
              " 'fetch_lfw_people',\n",
              " 'fetch_olivetti_faces',\n",
              " 'fetch_openml',\n",
              " 'fetch_rcv1',\n",
              " 'fetch_species_distributions',\n",
              " 'get_data_home',\n",
              " 'load_boston',\n",
              " 'load_breast_cancer',\n",
              " 'load_diabetes',\n",
              " 'load_digits',\n",
              " 'load_files',\n",
              " 'load_iris',\n",
              " 'load_linnerud',\n",
              " 'load_sample_image',\n",
              " 'load_sample_images',\n",
              " 'load_svmlight_file',\n",
              " 'load_svmlight_files',\n",
              " 'load_wine',\n",
              " 'make_biclusters',\n",
              " 'make_blobs',\n",
              " 'make_checkerboard',\n",
              " 'make_circles',\n",
              " 'make_classification',\n",
              " 'make_friedman1',\n",
              " 'make_friedman2',\n",
              " 'make_friedman3',\n",
              " 'make_gaussian_quantiles',\n",
              " 'make_hastie_10_2',\n",
              " 'make_low_rank_matrix',\n",
              " 'make_moons',\n",
              " 'make_multilabel_classification',\n",
              " 'make_regression',\n",
              " 'make_s_curve',\n",
              " 'make_sparse_coded_signal',\n",
              " 'make_sparse_spd_matrix',\n",
              " 'make_sparse_uncorrelated',\n",
              " 'make_spd_matrix',\n",
              " 'make_swiss_roll']"
            ]
          },
          "metadata": {},
          "execution_count": 2
        }
      ]
    },
    {
      "cell_type": "code",
      "source": [
        "iris=datasets.load_iris()\n",
        "wine=datasets.load_wine()"
      ],
      "metadata": {
        "id": "1lLNZmzXuwfi"
      },
      "execution_count": null,
      "outputs": []
    },
    {
      "cell_type": "markdown",
      "source": [
        "TP TN FP FN info\n",
        "[link text](https://towardsdatascience.com/classifying-model-outcomes-true-false-positives-negatives-177c1e702810)"
      ],
      "metadata": {
        "id": "YjRJg56TyX5P"
      }
    },
    {
      "cell_type": "markdown",
      "source": [
        "Sensitivity and Specificity\n",
        "https://towardsdatascience.com/evaluating-categorical-models-ii-sensitivity-and-specificity-e181e573cff8"
      ],
      "metadata": {
        "id": "XDkEDK33GVqC"
      }
    },
    {
      "cell_type": "markdown",
      "source": [],
      "metadata": {
        "id": "N_22o34ey_PI"
      }
    },
    {
      "cell_type": "markdown",
      "source": [
        "NBT for WINE"
      ],
      "metadata": {
        "id": "AHDWRyqxwf2p"
      }
    },
    {
      "cell_type": "code",
      "source": [
        "print(\"K10 CV\")\n",
        "'''\n",
        "print(wine)\n",
        "print('Features:',wine.feature_names)\n",
        "print('Labels:',wine.target_names)\n",
        "'''\n",
        "x=pd.DataFrame(wine['data'])\n",
        "'''\n",
        "print(x.head())\n",
        "print(wine.data.shape)\n",
        "y=wine.target\n",
        "'''\n",
        "from sklearn import metrics\n",
        "l=list()\n",
        "s=0\n",
        "print('Looping:',end='\\n')\n",
        "for x in range(10):\n",
        "  x_train, x_test, y_train, y_test = train_test_split(wine.data, wine.target, test_size=0.1)\n",
        "  gnb=GaussianNB()\n",
        "  gnb.fit(x_train,y_train)\n",
        "  y_pred=gnb.predict(x_test)\n",
        "  print(y_pred)\n",
        "  a=metrics.accuracy_score(y_test,y_pred)\n",
        "  print(\"Accuracy in loop \",x+1,\":\",a)\n",
        "  l.append(a)\n",
        "  cm=np.array(confusion_matrix(y_test,y_pred))\n",
        "  print(cm)\n",
        "  print()\n",
        "print(l)\n",
        "for j in l:\n",
        "  s+=j\n",
        "print(\"Average: \",s/10)\n",
        "plt.plot(l)\n",
        "plt.show()\n",
        "cm=np.array(confusion_matrix(y_test,y_pred))\n",
        "print(cm)\n",
        "print()"
      ],
      "metadata": {
        "colab": {
          "base_uri": "https://localhost:8080/",
          "height": 1000
        },
        "id": "PEb7eAF5wfXr",
        "outputId": "50c38df8-cf15-49ca-b1e7-3fe132ba8676"
      },
      "execution_count": null,
      "outputs": [
        {
          "output_type": "stream",
          "name": "stdout",
          "text": [
            "K10 CV\n",
            "Looping:\n",
            "[0 1 1 1 1 1 0 1 1 2 1 2 1 0 2 1 0 1]\n",
            "Accuracy in loop  1 : 0.9444444444444444\n",
            "[[ 4  0  0]\n",
            " [ 0 11  1]\n",
            " [ 0  0  2]]\n",
            "\n",
            "[0 1 1 1 1 2 0 1 1 1 2 0 1 2 2 0 2 1]\n",
            "Accuracy in loop  2 : 1.0\n",
            "[[4 0 0]\n",
            " [0 9 0]\n",
            " [0 0 5]]\n",
            "\n",
            "[1 2 0 2 1 0 1 0 0 2 0 0 2 1 1 1 1 1]\n",
            "Accuracy in loop  3 : 0.9444444444444444\n",
            "[[6 0 0]\n",
            " [0 8 1]\n",
            " [0 0 3]]\n",
            "\n",
            "[1 1 2 0 0 1 0 2 2 1 0 2 1 2 0 0 2 1]\n",
            "Accuracy in loop  4 : 0.9444444444444444\n",
            "[[6 0 0]\n",
            " [0 6 1]\n",
            " [0 0 5]]\n",
            "\n",
            "[2 2 2 1 2 1 0 0 2 1 0 0 1 0 1 2 0 0]\n",
            "Accuracy in loop  5 : 1.0\n",
            "[[7 0 0]\n",
            " [0 5 0]\n",
            " [0 0 6]]\n",
            "\n",
            "[1 1 0 2 0 1 1 1 0 2 2 0 2 1 0 1 0 1]\n",
            "Accuracy in loop  6 : 1.0\n",
            "[[6 0 0]\n",
            " [0 8 0]\n",
            " [0 0 4]]\n",
            "\n",
            "[1 0 2 2 0 1 2 1 0 1 1 1 1 1 1 1 2 0]\n",
            "Accuracy in loop  7 : 0.9444444444444444\n",
            "[[ 4  0  0]\n",
            " [ 0 10  1]\n",
            " [ 0  0  3]]\n",
            "\n",
            "[2 1 1 0 0 0 0 1 1 0 0 1 1 0 2 1 2 1]\n",
            "Accuracy in loop  8 : 0.9444444444444444\n",
            "[[6 0 0]\n",
            " [1 8 0]\n",
            " [0 0 3]]\n",
            "\n",
            "[1 1 0 1 1 1 2 0 2 2 2 2 2 1 1 2 1 0]\n",
            "Accuracy in loop  9 : 1.0\n",
            "[[3 0 0]\n",
            " [0 8 0]\n",
            " [0 0 7]]\n",
            "\n",
            "[0 1 1 1 1 1 1 0 0 2 2 2 0 2 1 0 1 1]\n",
            "Accuracy in loop  10 : 0.9444444444444444\n",
            "[[5 1 0]\n",
            " [0 8 0]\n",
            " [0 0 4]]\n",
            "\n",
            "[0.9444444444444444, 1.0, 0.9444444444444444, 0.9444444444444444, 1.0, 1.0, 0.9444444444444444, 0.9444444444444444, 1.0, 0.9444444444444444]\n",
            "Average:  0.9666666666666666\n"
          ]
        },
        {
          "output_type": "display_data",
          "data": {
            "text/plain": [
              "<Figure size 432x288 with 1 Axes>"
            ],
            "image/png": "[encoded data removed]"
          },
          "metadata": {
            "needs_background": "light"
          }
        },
        {
          "output_type": "stream",
          "name": "stdout",
          "text": [
            "[[5 1 0]\n",
            " [0 8 0]\n",
            " [0 0 4]]\n",
            "\n"
          ]
        }
      ]
    },
    {
      "cell_type": "markdown",
      "source": [
        "NBT for PETAL"
      ],
      "metadata": {
        "id": "6f7OyLs0wjyP"
      }
    },
    {
      "cell_type": "code",
      "source": [
        "print(\"K10 CV\")\n",
        "'''\n",
        "print(iris)\n",
        "print('Features:',iris.feature_names)\n",
        "print('Labels:',iris.target_names)\n",
        "'''\n",
        "x=pd.DataFrame(iris['data'])\n",
        "'''\n",
        "print(x.head())\n",
        "print(iris.data.shape)\n",
        "y=iris.target\n",
        "'''\n",
        "from sklearn import metrics\n",
        "l=list()\n",
        "s=0\n",
        "print('Looping:',end='\\n')\n",
        "for x in range(10):\n",
        "  x_train, x_test, y_train, y_test = train_test_split(iris.data, iris.target, test_size=0.1)\n",
        "  gnb=GaussianNB()\n",
        "  gnb.fit(x_train,y_train)\n",
        "  y_pred=gnb.predict(x_test)\n",
        "  print(y_pred)\n",
        "  a=metrics.accuracy_score(y_test,y_pred)\n",
        "  print(\"Accuracy in loop \",x+1,\":\",a)\n",
        "  l.append(a)\n",
        "  cm=np.array(confusion_matrix(y_test,y_pred))\n",
        "  print(cm)\n",
        "  print()\n",
        "print(l)\n",
        "for j in l:\n",
        "  s+=j\n",
        "print(\"Average: \",s/10)\n",
        "plt.plot(l)\n",
        "plt.show()\n",
        "cm=np.array(confusion_matrix(y_test,y_pred))\n",
        "print(cm)\n",
        "print()"
      ],
      "metadata": {
        "colab": {
          "base_uri": "https://localhost:8080/",
          "height": 1000
        },
        "id": "G8DrtVR8zq9D",
        "outputId": "dfd17da6-546c-46b4-f307-1ec7fe43d495"
      },
      "execution_count": null,
      "outputs": [
        {
          "output_type": "stream",
          "name": "stdout",
          "text": [
            "K10 CV\n",
            "Looping:\n",
            "[0 0 0 2 0 2 2 2 0 2 1 0 0 1 0]\n",
            "Accuracy in loop  1 : 1.0\n",
            "[[8 0 0]\n",
            " [0 2 0]\n",
            " [0 0 5]]\n",
            "\n",
            "[0 2 1 2 1 1 1 1 2 1 2 0 1 0 2]\n",
            "Accuracy in loop  2 : 0.9333333333333333\n",
            "[[3 0 0]\n",
            " [0 7 1]\n",
            " [0 0 4]]\n",
            "\n",
            "[1 0 1 2 1 1 0 0 1 0 0 2 0 1 0]\n",
            "Accuracy in loop  3 : 1.0\n",
            "[[7 0 0]\n",
            " [0 6 0]\n",
            " [0 0 2]]\n",
            "\n",
            "[0 0 1 0 1 1 2 2 2 2 2 1 0 0 1]\n",
            "Accuracy in loop  4 : 0.9333333333333333\n",
            "[[5 0 0]\n",
            " [0 5 1]\n",
            " [0 0 4]]\n",
            "\n",
            "[0 2 2 1 1 0 2 2 0 0 0 2 2 2 1]\n",
            "Accuracy in loop  5 : 0.9333333333333333\n",
            "[[5 0 0]\n",
            " [0 3 1]\n",
            " [0 0 6]]\n",
            "\n",
            "[0 1 1 2 1 0 0 1 1 2 1 2 0 1 1]\n",
            "Accuracy in loop  6 : 0.8666666666666667\n",
            "[[4 0 0]\n",
            " [0 6 0]\n",
            " [0 2 3]]\n",
            "\n",
            "[2 1 1 1 2 1 0 1 1 0 0 0 1 2 0]\n",
            "Accuracy in loop  7 : 0.9333333333333333\n",
            "[[5 0 0]\n",
            " [0 6 0]\n",
            " [0 1 3]]\n",
            "\n",
            "[0 2 0 2 2 1 0 2 0 2 1 1 0 1 1]\n",
            "Accuracy in loop  8 : 0.9333333333333333\n",
            "[[5 0 0]\n",
            " [0 4 0]\n",
            " [0 1 5]]\n",
            "\n",
            "[1 1 1 2 2 0 2 2 0 0 2 0 2 2 1]\n",
            "Accuracy in loop  9 : 0.9333333333333333\n",
            "[[4 0 0]\n",
            " [0 3 0]\n",
            " [0 1 7]]\n",
            "\n",
            "[0 1 0 1 0 0 2 0 1 0 2 1 2 1 2]\n",
            "Accuracy in loop  10 : 0.8666666666666667\n",
            "[[6 0 0]\n",
            " [0 3 0]\n",
            " [0 2 4]]\n",
            "\n",
            "[1.0, 0.9333333333333333, 1.0, 0.9333333333333333, 0.9333333333333333, 0.8666666666666667, 0.9333333333333333, 0.9333333333333333, 0.9333333333333333, 0.8666666666666667]\n",
            "Average:  0.9333333333333336\n"
          ]
        },
        {
          "output_type": "display_data",
          "data": {
            "text/plain": [
              "<Figure size 432x288 with 1 Axes>"
            ],
            "image/png": "[encoded data removed]"
          },
          "metadata": {
            "needs_background": "light"
          }
        },
        {
          "output_type": "stream",
          "name": "stdout",
          "text": [
            "[[6 0 0]\n",
            " [0 3 0]\n",
            " [0 2 4]]\n",
            "\n"
          ]
        }
      ]
    },
    {
      "cell_type": "markdown",
      "source": [
        "KNN with fixed K for WINE"
      ],
      "metadata": {
        "id": "t18pbg8PzrPJ"
      }
    },
    {
      "cell_type": "code",
      "source": [
        "'''\n",
        "print(wine)\n",
        "print(\"Features:\", wine.feature_names)\n",
        "print(\"Labels:\", wine.target_names)\n",
        "'''\n",
        "x=pd.DataFrame(wine['data'])\n",
        "'''\n",
        "print(\"x head:\\n\",x.head())\n",
        "print(\"shape:\\n\",wine.data.shape)\n",
        "y=print(wine.target)\n",
        "x_train, x_test, y_train, y_test = train_test_split(wine.data, wine.target, test_size=0.25)\n",
        "print(\"x_train:\\n\",x_train)\n",
        "print(\"y_train:\\n\",y_train)\n",
        "print(\"x_test:\\n\",x_test)\n",
        "print(\"y_test:\\n\",y_test)\n",
        "'''\n",
        "from sklearn.neighbors import KNeighborsClassifier\n",
        "from sklearn import metrics\n",
        "comb=[]\n",
        "value=[]\n",
        "for i in range(10):\n",
        "  x_train, x_test, y_train, y_test = train_test_split(wine.data, wine.target, test_size=0.10)\n",
        "  knn=KNeighborsClassifier(n_neighbors=10)\n",
        "  knn.fit(x_train,y_train)\n",
        "  y_pred=knn.predict(x_test)\n",
        "  accuracy=metrics.accuracy_score(y_test,y_pred)\n",
        "  comb.append('comb'+str(i))\n",
        "  value.append(accuracy)\n",
        "  print(\"Accuracy:\",metrics.accuracy_score(y_test,y_pred))\n",
        "  print(len(value))\n",
        "value.append((sum(value))/len(value))\n",
        "print(\"Average of the model:\",(sum(value))/len(value))\n",
        "print(y_test)\n",
        "print(y_pred)\n",
        "cm=np.array(confusion_matrix(y_test,y_pred))\n",
        "print(cm)"
      ],
      "metadata": {
        "colab": {
          "base_uri": "https://localhost:8080/"
        },
        "id": "HOTGVRS9z18j",
        "outputId": "5e3d3a2d-02e0-4fba-d51b-6e30592fa4fb"
      },
      "execution_count": null,
      "outputs": [
        {
          "output_type": "stream",
          "name": "stdout",
          "text": [
            "Accuracy: 0.7222222222222222\n",
            "1\n",
            "Accuracy: 0.6666666666666666\n",
            "2\n",
            "Accuracy: 0.8333333333333334\n",
            "3\n",
            "Accuracy: 0.7222222222222222\n",
            "4\n",
            "Accuracy: 0.7222222222222222\n",
            "5\n",
            "Accuracy: 0.6666666666666666\n",
            "6\n",
            "Accuracy: 0.5555555555555556\n",
            "7\n",
            "Accuracy: 0.8888888888888888\n",
            "8\n",
            "Accuracy: 0.7222222222222222\n",
            "9\n",
            "Accuracy: 0.8333333333333334\n",
            "10\n",
            "Average of the model: 0.7333333333333333\n",
            "[1 0 0 1 2 2 2 0 1 2 0 2 0 1 2 2 0 0]\n",
            "[1 0 0 1 2 1 2 0 1 1 0 2 0 1 2 1 0 0]\n",
            "[[7 0 0]\n",
            " [0 4 0]\n",
            " [0 3 4]]\n"
          ]
        }
      ]
    },
    {
      "cell_type": "markdown",
      "source": [
        "KNN with brute force for WINE"
      ],
      "metadata": {
        "id": "t1ub5QR3-1eC"
      }
    },
    {
      "cell_type": "code",
      "source": [
        "from sklearn.model_selection import cross_val_score\n",
        "cv_scores=[]\n",
        "neighbors=list(np.arange(3,50,2))\n",
        "print(neighbors)\n",
        "for n in neighbors:\n",
        "  knn=KNeighborsClassifier(n_neighbors=n,algorithm='brute')\n",
        "  cross_val=cross_val_score(knn,x_train,y_train,cv=10,scoring='accuracy')\n",
        "  cv_scores.append(cross_val.mean())\n",
        "error=[1-x for x in cv_scores]\n",
        "optimal_n=neighbors[error.index(min(error))]\n",
        "knn_optimal=KNeighborsClassifier(n_neighbors=optimal_n,algorithm='brute')\n",
        "knn_optimal.fit(x_train,y_train)\n",
        "pred=knn_optimal.predict(x_test)\n",
        "acc=accuracy_score(y_test,pred)*100\n",
        "print(\"The accuracy for optimal k = {0} using brute force is {1}\".format(optimal_n,acc))\n",
        "print(\"Classification report using brute force\")\n",
        "print(classification_report(y_test,pred))\n",
        "cm=confusion_matrix(y_test,pred)\n",
        "print(cm)\n",
        "cm_df=pd.DataFrame(cm,index=['setosa','versicolor','virginica'],columns=['setosa','versicolor','virginica'])\n",
        "sns.heatmap(cm_df,annot=True,cmap='Blues')\n",
        "plt.title('Accuracy using brute force: {0:.3f}'.format(accuracy_score(y_test,y_pred)))\n",
        "plt.ylabel('Actual Label')\n",
        "plt.xlabel('Predcited Label')\n",
        "plt.show()\n"
      ],
      "metadata": {
        "colab": {
          "base_uri": "https://localhost:8080/",
          "height": 573
        },
        "id": "HqqQUtDq-07q",
        "outputId": "be5d2f14-81b7-4b88-bf75-294e7ad043ea"
      },
      "execution_count": null,
      "outputs": [
        {
          "output_type": "stream",
          "name": "stdout",
          "text": [
            "[3, 5, 7, 9, 11, 13, 15, 17, 19, 21, 23, 25, 27, 29, 31, 33, 35, 37, 39, 41, 43, 45, 47, 49]\n",
            "The accuracy for optimal k = 43 using brute force is 66.66666666666666\n",
            "Classification report using brute force\n",
            "              precision    recall  f1-score   support\n",
            "\n",
            "           0       1.00      0.86      0.92         7\n",
            "           1       0.43      0.75      0.55         4\n",
            "           2       0.60      0.43      0.50         7\n",
            "\n",
            "    accuracy                           0.67        18\n",
            "   macro avg       0.68      0.68      0.66        18\n",
            "weighted avg       0.72      0.67      0.67        18\n",
            "\n",
            "[[6 0 1]\n",
            " [0 3 1]\n",
            " [0 4 3]]\n"
          ]
        },
        {
          "output_type": "display_data",
          "data": {
            "text/plain": [
              "<Figure size 432x288 with 2 Axes>"
            ],
            "image/png": "[encoded data removed]"
          },
          "metadata": {
            "needs_background": "light"
          }
        }
      ]
    },
    {
      "cell_type": "markdown",
      "source": [
        "KNN with fixed K for PETAL"
      ],
      "metadata": {
        "id": "OI_2PU5Kz2QD"
      }
    },
    {
      "cell_type": "code",
      "source": [
        "iris=datasets.load_iris()\n",
        "'''\n",
        "print(iris)\n",
        "print(\"Features:\", iris.feature_names)\n",
        "print(\"Labels:\", iris.target_names)\n",
        "'''\n",
        "x=pd.DataFrame(iris['data'])\n",
        "'''\n",
        "print(\"x head:\\n\",x.head())\n",
        "print(\"shape:\\n\",iris.data.shape)\n",
        "y=print(iris.target)\n",
        "x_train, x_test, y_train, y_test = train_test_split(iris.data, iris.target, test_size=0.25)\n",
        "print(\"x_train:\\n\",x_train)\n",
        "print(\"y_train:\\n\",y_train)\n",
        "print(\"x_test:\\n\",x_test)\n",
        "print(\"y_test:\\n\",y_test)\n",
        "'''\n",
        "from sklearn.neighbors import KNeighborsClassifier\n",
        "from sklearn import metrics\n",
        "comb=[]\n",
        "value=[]\n",
        "for i in range(10):\n",
        "  x_train, x_test, y_train, y_test = train_test_split(iris.data, iris.target, test_size=0.10)\n",
        "  knn=KNeighborsClassifier(n_neighbors=10)\n",
        "  knn.fit(x_train,y_train)\n",
        "  y_pred=knn.predict(x_test)\n",
        "  accuracy=metrics.accuracy_score(y_test,y_pred)\n",
        "  comb.append('comb'+str(i))\n",
        "  value.append(accuracy)\n",
        "  print(\"Accuracy:\",metrics.accuracy_score(y_test,y_pred))\n",
        "  print(len(value))\n",
        "value.append((sum(value))/len(value))\n",
        "print(\"Average of the model:\",(sum(value))/len(value))\n",
        "print(y_test)\n",
        "print(y_pred)\n",
        "cm=np.array(confusion_matrix(y_test,y_pred))\n",
        "print(cm)"
      ],
      "metadata": {
        "colab": {
          "base_uri": "https://localhost:8080/"
        },
        "id": "MHCf-ElPztE6",
        "outputId": "52f9c00d-8657-4ba8-b31f-66c5033839d7"
      },
      "execution_count": null,
      "outputs": [
        {
          "output_type": "stream",
          "name": "stdout",
          "text": [
            "Accuracy: 1.0\n",
            "1\n",
            "Accuracy: 0.9333333333333333\n",
            "2\n",
            "Accuracy: 0.8666666666666667\n",
            "3\n",
            "Accuracy: 1.0\n",
            "4\n",
            "Accuracy: 1.0\n",
            "5\n",
            "Accuracy: 1.0\n",
            "6\n",
            "Accuracy: 0.9333333333333333\n",
            "7\n",
            "Accuracy: 1.0\n",
            "8\n",
            "Accuracy: 1.0\n",
            "9\n",
            "Accuracy: 1.0\n",
            "10\n",
            "Average of the model: 0.9733333333333334\n",
            "[2 1 2 2 2 1 1 1 1 2 1 0 0 2 1]\n",
            "[2 1 2 2 2 1 1 1 1 2 1 0 0 2 1]\n",
            "[[2 0 0]\n",
            " [0 7 0]\n",
            " [0 0 6]]\n"
          ]
        }
      ]
    },
    {
      "cell_type": "markdown",
      "source": [
        "KNN with brute force for PETAL"
      ],
      "metadata": {
        "id": "e5vQuUDF-EkI"
      }
    },
    {
      "cell_type": "code",
      "source": [
        "from sklearn.model_selection import cross_val_score\n",
        "cv_scores=[]\n",
        "neighbors=list(np.arange(3,50,2))\n",
        "print(neighbors)\n",
        "for n in neighbors:\n",
        "  knn=KNeighborsClassifier(n_neighbors=n,algorithm='brute')\n",
        "  cross_val=cross_val_score(knn,x_train,y_train,cv=10,scoring='accuracy')\n",
        "  cv_scores.append(cross_val.mean())\n",
        "error=[1-x for x in cv_scores]\n",
        "optimal_n=neighbors[error.index(min(error))]\n",
        "knn_optimal=KNeighborsClassifier(n_neighbors=optimal_n,algorithm='brute')\n",
        "knn_optimal.fit(x_train,y_train)\n",
        "pred=knn_optimal.predict(x_test)\n",
        "acc=accuracy_score(y_test,pred)*100\n",
        "print(\"The accuracy for optimal k = {0} using brute force is {1}\".format(optimal_n,acc))\n",
        "print(\"Classification report using brute force\")\n",
        "print(classification_report(y_test,pred))\n",
        "cm=confusion_matrix(y_test,pred)\n",
        "print(cm)\n",
        "cm_df=pd.DataFrame(cm,index=['setosa','versicolor','virginica'],columns=['setosa','versicolor','virginica'])\n",
        "sns.heatmap(cm_df,annot=True,cmap='Blues')\n",
        "plt.title('Accuracy using brute force: {0:.3f}'.format(accuracy_score(y_test,y_pred)))\n",
        "plt.ylabel('Actual Label')\n",
        "plt.xlabel('Predcited Label')\n",
        "plt.show()\n"
      ],
      "metadata": {
        "colab": {
          "base_uri": "https://localhost:8080/",
          "height": 573
        },
        "id": "LjnQuEYY97Xt",
        "outputId": "bf9c6a77-8db8-442d-b8bf-63aa4eb10684"
      },
      "execution_count": null,
      "outputs": [
        {
          "output_type": "stream",
          "name": "stdout",
          "text": [
            "[3, 5, 7, 9, 11, 13, 15, 17, 19, 21, 23, 25, 27, 29, 31, 33, 35, 37, 39, 41, 43, 45, 47, 49]\n",
            "The accuracy for optimal k = 7 using brute force is 93.33333333333333\n",
            "Classification report using brute force\n",
            "              precision    recall  f1-score   support\n",
            "\n",
            "           0       1.00      1.00      1.00         6\n",
            "           1       1.00      0.83      0.91         6\n",
            "           2       0.75      1.00      0.86         3\n",
            "\n",
            "    accuracy                           0.93        15\n",
            "   macro avg       0.92      0.94      0.92        15\n",
            "weighted avg       0.95      0.93      0.94        15\n",
            "\n",
            "[[6 0 0]\n",
            " [0 5 1]\n",
            " [0 0 3]]\n"
          ]
        },
        {
          "output_type": "display_data",
          "data": {
            "text/plain": [
              "<Figure size 432x288 with 2 Axes>"
            ],
            "image/png": "[encoded data removed]"
          },
          "metadata": {
            "needs_background": "light"
          }
        }
      ]
    },
    {
      "cell_type": "markdown",
      "source": [
        "SVM for WINE"
      ],
      "metadata": {
        "id": "oAhDcC8xCZvS"
      }
    },
    {
      "cell_type": "code",
      "source": [
        "'''\n",
        "wine=datasets.load_wine()\n",
        "print(wine)\n",
        "print(\"Features:\", wine.feature_names)\n",
        "print(\"Labels:\", wine.target_names)\n",
        "'''\n",
        "x=pd.DataFrame(wine['data'])\n",
        "'''\n",
        "print(\"x head:\\n\",x.head())\n",
        "print(\"shape:\\n\",wine.data.shape)\n",
        "y=print(wine.target)\n",
        "'''\n",
        "from sklearn.neighbors import KNeighborsClassifier\n",
        "from sklearn import metrics\n",
        "comb=[]\n",
        "value=[]\n",
        "for i in range(10):\n",
        "  x_train, x_test, y_train, y_test = train_test_split(wine.data, wine.target, test_size=0.10)\n",
        "  knn=KNeighborsClassifier(n_neighbors=10)\n",
        "  knn.fit(x_train,y_train)\n",
        "  y_pred=knn.predict(x_test)\n",
        "  accuracy=metrics.accuracy_score(y_test,y_pred)\n",
        "  comb.append('comb'+str(i))\n",
        "  value.append(accuracy)\n",
        "  print(\"Accuracy:\",metrics.accuracy_score(y_test,y_pred))\n",
        "  print(len(value))\n",
        "value.append((sum(value))/len(value))\n",
        "print(\"Average of the model:\",(sum(value))/len(value))\n",
        "'''\n",
        "plt.bar([0,1,2,3,4],value)\n",
        "plt.show()\n",
        "print(y_test)\n",
        "print(y_pred)\n",
        "'''\n",
        "cv_scores=[]\n",
        "neighbors=list(np.arange(3,50,2))\n",
        "print(neighbors)\n",
        "\n",
        "for n in neighbors:\n",
        "  knn=KNeighborsClassifier(n_neighbors=n,algorithm='brute')\n",
        "  cross_val=cross_val_score(knn,x_train,y_train,cv=10,scoring='accuracy')\n",
        "  cv_scores.append(cross_val.mean())\n",
        "\n",
        "error=[1-x for x in cv_scores]\n",
        "optimal_n=neighbors[error.index(min(error))]\n",
        "knn_optimal=KNeighborsClassifier(n_neighbors=optimal_n,algorithm='brute')\n",
        "knn_optimal.fit(x_train,y_train)\n",
        "pred=knn_optimal.predict(x_test)\n",
        "acc=accuracy_score(y_test,pred)*100\n",
        "\n",
        "print(\"The accuracy for optimal k = {0} using brute force is {1}\".format(optimal_n,acc))\n",
        "print(\"Classification report using brute force\")\n",
        "print(classification_report(y_test,pred))\n",
        "s=SVC(kernel='linear').fit(x_train,y_train)\n",
        "s_pred=s.predict(x_test)\n",
        "acc=accuracy_score(y_test,s_pred)*100\n",
        "cm=confusion_matrix(y_test,s_pred)\n",
        "print(cm)\n",
        "cm_df=pd.DataFrame(cm,index=['setosa','versicolor','virginica'],columns=['setosa','versicolor','virginica'])\n",
        "sns.heatmap(cm_df,annot=True,cmap='Blues')\n",
        "plt.title('Accuracy using brute force: {0:.3f}'.format(accuracy_score(y_test,s_pred)))\n",
        "plt.ylabel('Actual Label')\n",
        "plt.xlabel('Predcited Label')\n",
        "plt.show()"
      ],
      "metadata": {
        "colab": {
          "base_uri": "https://localhost:8080/",
          "height": 937
        },
        "id": "GxXV1fw_Cd8u",
        "outputId": "b0e25921-1a76-4ba9-c00f-f0ee298d72ab"
      },
      "execution_count": null,
      "outputs": [
        {
          "output_type": "stream",
          "name": "stdout",
          "text": [
            "Accuracy: 0.7222222222222222\n",
            "1\n",
            "Accuracy: 0.6111111111111112\n",
            "2\n",
            "Accuracy: 0.6111111111111112\n",
            "3\n",
            "Accuracy: 0.7777777777777778\n",
            "4\n",
            "Accuracy: 0.6666666666666666\n",
            "5\n",
            "Accuracy: 0.9444444444444444\n",
            "6\n",
            "Accuracy: 0.6111111111111112\n",
            "7\n",
            "Accuracy: 0.7777777777777778\n",
            "8\n",
            "Accuracy: 0.6666666666666666\n",
            "9\n",
            "Accuracy: 0.7777777777777778\n",
            "10\n",
            "Average of the model: 0.7166666666666667\n",
            "[3, 5, 7, 9, 11, 13, 15, 17, 19, 21, 23, 25, 27, 29, 31, 33, 35, 37, 39, 41, 43, 45, 47, 49]\n",
            "The accuracy for optimal k = 33 using brute force is 72.22222222222221\n",
            "Classification report using brute force\n",
            "              precision    recall  f1-score   support\n",
            "\n",
            "           0       0.88      1.00      0.93         7\n",
            "           1       0.67      0.57      0.62         7\n",
            "           2       0.50      0.50      0.50         4\n",
            "\n",
            "    accuracy                           0.72        18\n",
            "   macro avg       0.68      0.69      0.68        18\n",
            "weighted avg       0.71      0.72      0.71        18\n",
            "\n",
            "[[7 0 0]\n",
            " [0 7 0]\n",
            " [0 0 4]]\n"
          ]
        },
        {
          "output_type": "display_data",
          "data": {
            "text/plain": [
              "<Figure size 432x288 with 2 Axes>"
            ],
            "image/png": "[encoded data removed]"
          },
          "metadata": {
            "needs_background": "light"
          }
        }
      ]
    },
    {
      "cell_type": "markdown",
      "source": [
        "SVM for PETAL"
      ],
      "metadata": {
        "id": "9QSJuCSgCV2H"
      }
    },
    {
      "cell_type": "code",
      "source": [
        "'''\n",
        "iris=datasets.load_iris()\n",
        "print(iris)\n",
        "print(\"Features:\", iris.feature_names)\n",
        "print(\"Labels:\", iris.target_names)\n",
        "'''\n",
        "x=pd.DataFrame(iris['data'])\n",
        "'''\n",
        "print(\"x head:\\n\",x.head())\n",
        "print(\"shape:\\n\",iris.data.shape)\n",
        "y=print(iris.target)\n",
        "'''\n",
        "from sklearn.neighbors import KNeighborsClassifier\n",
        "from sklearn import metrics\n",
        "comb=[]\n",
        "value=[]\n",
        "for i in range(10):\n",
        "  x_train, x_test, y_train, y_test = train_test_split(iris.data, iris.target, test_size=0.10)\n",
        "  knn=KNeighborsClassifier(n_neighbors=10)\n",
        "  knn.fit(x_train,y_train)\n",
        "  y_pred=knn.predict(x_test)\n",
        "  accuracy=metrics.accuracy_score(y_test,y_pred)\n",
        "  comb.append('comb'+str(i))\n",
        "  value.append(accuracy)\n",
        "  print(\"Accuracy:\",metrics.accuracy_score(y_test,y_pred))\n",
        "  print(len(value))\n",
        "value.append((sum(value))/len(value))\n",
        "print(\"Average of the model:\",(sum(value))/len(value))\n",
        "'''\n",
        "plt.bar([0,1,2,3,4],value)\n",
        "plt.show()\n",
        "print(y_test)\n",
        "print(y_pred)\n",
        "'''\n",
        "cv_scores=[]\n",
        "neighbors=list(np.arange(3,50,2))\n",
        "print(neighbors)\n",
        "\n",
        "for n in neighbors:\n",
        "  knn=KNeighborsClassifier(n_neighbors=n,algorithm='brute')\n",
        "  cross_val=cross_val_score(knn,x_train,y_train,cv=10,scoring='accuracy')\n",
        "  cv_scores.append(cross_val.mean())\n",
        "\n",
        "error=[1-x for x in cv_scores]\n",
        "optimal_n=neighbors[error.index(min(error))]\n",
        "knn_optimal=KNeighborsClassifier(n_neighbors=optimal_n,algorithm='brute')\n",
        "knn_optimal.fit(x_train,y_train)\n",
        "pred=knn_optimal.predict(x_test)\n",
        "acc=accuracy_score(y_test,pred)*100\n",
        "\n",
        "print(\"The accuracy for optimal k = {0} using brute force is {1}\".format(optimal_n,acc))\n",
        "print(\"Classification report using brute force\")\n",
        "print(classification_report(y_test,pred))\n",
        "s=SVC(kernel='linear').fit(x_train,y_train)\n",
        "s_pred=s.predict(x_test)\n",
        "acc=accuracy_score(y_test,s_pred)*100\n",
        "cm=confusion_matrix(y_test,s_pred)\n",
        "print(cm)\n",
        "cm_df=pd.DataFrame(cm,index=['setosa','versicolor','virginica'],columns=['setosa','versicolor','virginica'])\n",
        "sns.heatmap(cm_df,annot=True,cmap='Blues')\n",
        "plt.title('Accuracy using brute force: {0:.3f}'.format(accuracy_score(y_test,s_pred)))\n",
        "plt.ylabel('Actual Label')\n",
        "plt.xlabel('Predcited Label')\n",
        "plt.show()"
      ],
      "metadata": {
        "colab": {
          "base_uri": "https://localhost:8080/",
          "height": 937
        },
        "id": "a2Pfbe0bCehW",
        "outputId": "9660d814-1525-4984-b611-bca2ac310f8c"
      },
      "execution_count": null,
      "outputs": [
        {
          "output_type": "stream",
          "name": "stdout",
          "text": [
            "Accuracy: 1.0\n",
            "1\n",
            "Accuracy: 1.0\n",
            "2\n",
            "Accuracy: 0.9333333333333333\n",
            "3\n",
            "Accuracy: 0.9333333333333333\n",
            "4\n",
            "Accuracy: 1.0\n",
            "5\n",
            "Accuracy: 0.9333333333333333\n",
            "6\n",
            "Accuracy: 1.0\n",
            "7\n",
            "Accuracy: 1.0\n",
            "8\n",
            "Accuracy: 1.0\n",
            "9\n",
            "Accuracy: 0.8666666666666667\n",
            "10\n",
            "Average of the model: 0.9666666666666668\n",
            "[3, 5, 7, 9, 11, 13, 15, 17, 19, 21, 23, 25, 27, 29, 31, 33, 35, 37, 39, 41, 43, 45, 47, 49]\n",
            "The accuracy for optimal k = 15 using brute force is 93.33333333333333\n",
            "Classification report using brute force\n",
            "              precision    recall  f1-score   support\n",
            "\n",
            "           0       1.00      1.00      1.00         5\n",
            "           1       0.83      1.00      0.91         5\n",
            "           2       1.00      0.80      0.89         5\n",
            "\n",
            "    accuracy                           0.93        15\n",
            "   macro avg       0.94      0.93      0.93        15\n",
            "weighted avg       0.94      0.93      0.93        15\n",
            "\n",
            "[[5 0 0]\n",
            " [0 5 0]\n",
            " [0 0 5]]\n"
          ]
        },
        {
          "output_type": "display_data",
          "data": {
            "text/plain": [
              "<Figure size 432x288 with 2 Axes>"
            ],
            "image/png": "[encoded data removed]"
          },
          "metadata": {
            "needs_background": "light"
          }
        }
      ]
    },
    {
      "cell_type": "markdown",
      "source": [
        "From the tables,\n",
        "we have observed the following:\n",
        "\n",
        "TABLE-Sorted according to ACCURACY\n",
        "    Dataset Name\tClassifier            Accuracy\n",
        "1.  PETAL/IRIS\t  KNN with Fixed K      100\n",
        "2.  WINE\t        SVM\t                  100\n",
        "3.  PETAL/IRIS\t  SVM                   100\n",
        "4.  WINE \t        NBT                   94.44\n",
        "5.  PETAL/IRIS   \tKNN with Brute Force \t93.33\n",
        "\n",
        "TABLE-Sorted according to F1 SCORE\n",
        "    Dataset Name\tClassifier            F1 Score\n",
        "1.   PETAL/IRIS  \tKNN with Fixed K      1\n",
        "2.   WINE\t        SVM                   1\n",
        "3.   PETAL/IRIS  \tSVM                   1\n",
        "4.   WINE\t        NBT                   0.95\n",
        "5.   PETAL/IRIS\t  KNN with Brute Force  0.923333333\n",
        "\n",
        "TABLE-Sorted according to FPR\n",
        "    Dataset Name\tClassifier            FPR\n",
        "1.  WINE\t        KNN with Brute Force  0.2\n",
        "2.  WINE\t        KNN with Fixed K      0.166666667\n",
        "3.  PETAL/IRIS\t  NBT                   0.133333333\n",
        "4.  PETAL/IRIS\t  KNN with Fixed K      0\n",
        "5.  WINE\t        SVM                   0"
      ],
      "metadata": {
        "id": "NZUkA3UQJUF-"
      }
    },
    {
      "cell_type": "markdown",
      "source": [
        "LINK TO EXCEL SHEET:\n",
        "\n",
        "[link text](https://docs.google.com/spreadsheets/d/1SGxWnyFNeOoeoFrSewmqEGZBJntF-SKhdihHEcuqsEY/edit#gid=1377444835)\n",
        "\n",
        "CURRENT COLAB LINK:\n",
        "\n",
        "[link text](https://colab.research.google.com/drive/18zB9ZC2xGlwtANrjqHYZvZjbDm4Xa2ZB#scrollTo=NZUkA3UQJUF-)"
      ],
      "metadata": {
        "id": "e_moB4ZkMSvD"
      }
    }
  ]
}